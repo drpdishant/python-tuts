{
 "cells": [
  {
   "cell_type": "code",
   "execution_count": 1,
   "metadata": {},
   "outputs": [
    {
     "name": "stdout",
     "output_type": "stream",
     "text": [
      "234\n",
      "234.0\n"
     ]
    }
   ],
   "source": [
    "x = 234\n",
    "y = float(x)\n",
    "print(x)\n",
    "print(y)"
   ]
  },
  {
   "cell_type": "code",
   "execution_count": 1,
   "metadata": {},
   "outputs": [
    {
     "output_type": "stream",
     "name": "stdout",
     "text": "999.9999\n-999\n999\n3.1416\n0b10000000\n0x80\n0o200\n128\n-999.9999\n<class 'float'>\n<class 'str'>\n"
    }
   ],
   "source": [
    "pi = 3.14159265358979\n",
    "x = 128\n",
    "y = -345.67890987\n",
    "z = -999.9999\n",
    "print(abs(z))\n",
    "print(int(z))\n",
    "print(int(abs(z)))\n",
    "print(round(pi,4))\n",
    "print(bin(x))\n",
    "print(hex(x))\n",
    "print(oct(x))\n",
    "print(max(pi,x,y,z))\n",
    "print(min(pi,x,y,z))\n",
    "print(type(pi))\n",
    "print(type(str(y)))"
   ]
  },
  {
   "cell_type": "code",
   "execution_count": 6,
   "metadata": {},
   "outputs": [
    {
     "output_type": "stream",
     "name": "stdout",
     "text": "9.0\n"
    }
   ],
   "source": [
    "import math\n",
    "print(math.sqrt(81))"
   ]
  },
  {
   "cell_type": "code",
   "execution_count": 7,
   "metadata": {},
   "outputs": [
    {
     "output_type": "stream",
     "name": "stdout",
     "text": "3.141592653589793\n2.718281828459045\n6.283185307179586\n9.0\n5040\n-23235\n401.07045659157626\n0.7853981633974483\n"
    }
   ],
   "source": [
    "import math\n",
    "pi = math.pi\n",
    "e = math.e\n",
    "tau = math.tau\n",
    "x = 81\n",
    "y = 7\n",
    "z = -23234.5454\n",
    "print(pi)\n",
    "print(e)\n",
    "print(tau)\n",
    "print(math.sqrt(x))\n",
    "print(math.factorial(y))\n",
    "print(math.floor(z))\n",
    "print(math.degrees(y))\n",
    "print(math.radians(45))"
   ]
  },
  {
   "cell_type": "code",
   "execution_count": 8,
   "metadata": {},
   "outputs": [
    {
     "output_type": "stream",
     "name": "stdout",
     "text": "Hello Alan\n"
    }
   ],
   "source": [
    "username = \"Alan\"\n",
    "print(f\"Hello {username}\")"
   ]
  },
  {
   "cell_type": "code",
   "execution_count": 9,
   "metadata": {},
   "outputs": [
    {
     "output_type": "stream",
     "name": "stdout",
     "text": "Subtotal: $1499.7\n"
    }
   ],
   "source": [
    "unit_price = 49.99\n",
    "quantity = 30\n",
    "print(f\"Subtotal: ${quantity * unit_price}\")"
   ]
  },
  {
   "cell_type": "code",
   "execution_count": 10,
   "metadata": {},
   "outputs": [
    {
     "output_type": "stream",
     "name": "stdout",
     "text": "Subtotal: $1,499.70\n"
    }
   ],
   "source": [
    "unit_price = 49.99\n",
    "quantity = 30\n",
    "print(f\"Subtotal: ${quantity * unit_price:,.2f}\")"
   ]
  },
  {
   "cell_type": "code",
   "execution_count": 12,
   "metadata": {},
   "outputs": [
    {
     "output_type": "stream",
     "name": "stdout",
     "text": "Sales Tax Rate 6.50%\n"
    }
   ],
   "source": [
    "sales_tax_rate = 0.065\n",
    "print(f\"Sales Tax Rate {sales_tax_rate:.2%}\")"
   ]
  },
  {
   "cell_type": "code",
   "execution_count": 13,
   "metadata": {},
   "outputs": [
    {
     "output_type": "stream",
     "name": "stdout",
     "text": "Sales Tax Rate 6.5%\n"
    }
   ],
   "source": [
    "sales_tax_rate = 0.065\n",
    "print(f\"Sales Tax Rate {sales_tax_rate:.1%}\")"
   ]
  },
  {
   "cell_type": "code",
   "execution_count": 14,
   "metadata": {},
   "outputs": [
    {
     "output_type": "stream",
     "name": "stdout",
     "text": "Sales Tax Rate 6.500000000%\n"
    }
   ],
   "source": [
    "sales_tax_rate = 0.065\n",
    "print(f\"Sales Tax Rate {sales_tax_rate:.9%}\")"
   ]
  },
  {
   "cell_type": "code",
   "execution_count": 15,
   "metadata": {},
   "outputs": [
    {
     "output_type": "stream",
     "name": "stdout",
     "text": "Sales Tax Rate 6.50%\nSales Tax Rate 6.50%\nSales Tax Rate 6.50%\nSales Tax Rate 6.50%\n"
    }
   ],
   "source": [
    "sales_tax_rate = 0.065\n",
    "sample1 = f\"Sales Tax Rate {sales_tax_rate:.2%}\"\n",
    "sample2 = f'Sales Tax Rate {sales_tax_rate:.2%}'\n",
    "sample3 = f\"\"\"Sales Tax Rate {sales_tax_rate:.2%}\"\"\"\n",
    "sample4 = f'''Sales Tax Rate {sales_tax_rate:.2%}'''\n",
    "\n",
    "print(sample1)\n",
    "print(sample2)\n",
    "print(sample3)\n",
    "print(sample4)"
   ]
  },
  {
   "cell_type": "code",
   "execution_count": null,
   "metadata": {},
   "outputs": [],
   "source": []
  }
 ],
 "metadata": {
  "kernelspec": {
   "display_name": "Python 3",
   "language": "python",
   "name": "python3"
  },
  "language_info": {
   "codemirror_mode": {
    "name": "ipython",
    "version": 3
   },
   "file_extension": ".py",
   "mimetype": "text/x-python",
   "name": "python",
   "nbconvert_exporter": "python",
   "pygments_lexer": "ipython3",
   "version": "3.7.6-final"
  }
 },
 "nbformat": 4,
 "nbformat_minor": 4
}